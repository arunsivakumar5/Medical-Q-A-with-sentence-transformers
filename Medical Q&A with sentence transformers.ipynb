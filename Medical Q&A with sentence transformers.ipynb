{
 "cells": [
  {
   "cell_type": "markdown",
   "id": "13e8eaa3",
   "metadata": {},
   "source": [
    "## **Medical Q&A with sentence transformers**\n",
    "\n",
    "\n",
    "In this notebook, We designed models to provide answers to user queries by utilizing medical documents and sentence transformers."
   ]
  },
  {
   "cell_type": "markdown",
   "id": "da614c11",
   "metadata": {},
   "source": [
    "### Install necessary libraries"
   ]
  },
  {
   "cell_type": "code",
   "execution_count": 1,
   "id": "51757220",
   "metadata": {},
   "outputs": [
    {
     "name": "stdout",
     "output_type": "stream",
     "text": [
      "Collecting sentence-transformers\n",
      "  Downloading sentence-transformers-2.2.2.tar.gz (85 kB)\n",
      "Collecting transformers<5.0.0,>=4.6.0\n",
      "  Downloading transformers-4.30.2-py3-none-any.whl (7.2 MB)\n",
      "Requirement already satisfied: tqdm in e:\\anaconda2\\envs\\pytorch\\lib\\site-packages (from sentence-transformers) (4.64.0)\n",
      "Requirement already satisfied: torch>=1.6.0 in e:\\anaconda2\\envs\\pytorch\\lib\\site-packages (from sentence-transformers) (1.11.0)\n",
      "Requirement already satisfied: torchvision in e:\\anaconda2\\envs\\pytorch\\lib\\site-packages (from sentence-transformers) (0.12.0)\n",
      "Requirement already satisfied: numpy in e:\\anaconda2\\envs\\pytorch\\lib\\site-packages (from sentence-transformers) (1.21.5)\n",
      "Requirement already satisfied: scikit-learn in e:\\anaconda2\\envs\\pytorch\\lib\\site-packages (from sentence-transformers) (1.0.2)\n",
      "Requirement already satisfied: scipy in e:\\anaconda2\\envs\\pytorch\\lib\\site-packages (from sentence-transformers) (1.7.3)\n",
      "Collecting nltk\n",
      "  Downloading nltk-3.8.1-py3-none-any.whl (1.5 MB)\n",
      "Collecting sentencepiece\n",
      "  Downloading sentencepiece-0.1.99-cp37-cp37m-win_amd64.whl (977 kB)\n",
      "Collecting huggingface-hub>=0.4.0\n",
      "  Downloading huggingface_hub-0.16.4-py3-none-any.whl (268 kB)\n",
      "Requirement already satisfied: packaging>=20.9 in e:\\anaconda2\\envs\\pytorch\\lib\\site-packages (from huggingface-hub>=0.4.0->sentence-transformers) (21.3)\n",
      "Collecting fsspec\n",
      "  Downloading fsspec-2023.1.0-py3-none-any.whl (143 kB)\n",
      "Requirement already satisfied: filelock in e:\\anaconda2\\envs\\pytorch\\lib\\site-packages (from huggingface-hub>=0.4.0->sentence-transformers) (3.6.0)\n",
      "Requirement already satisfied: pyyaml>=5.1 in e:\\anaconda2\\envs\\pytorch\\lib\\site-packages (from huggingface-hub>=0.4.0->sentence-transformers) (6.0)\n",
      "Requirement already satisfied: importlib-metadata in e:\\anaconda2\\envs\\pytorch\\lib\\site-packages (from huggingface-hub>=0.4.0->sentence-transformers) (4.11.3)\n",
      "Requirement already satisfied: requests in e:\\anaconda2\\envs\\pytorch\\lib\\site-packages (from huggingface-hub>=0.4.0->sentence-transformers) (2.27.1)\n",
      "Requirement already satisfied: typing-extensions>=3.7.4.3 in e:\\anaconda2\\envs\\pytorch\\lib\\site-packages (from huggingface-hub>=0.4.0->sentence-transformers) (4.1.1)\n",
      "Requirement already satisfied: pyparsing!=3.0.5,>=2.0.2 in e:\\anaconda2\\envs\\pytorch\\lib\\site-packages (from packaging>=20.9->huggingface-hub>=0.4.0->sentence-transformers) (3.0.8)\n",
      "Requirement already satisfied: colorama in e:\\anaconda2\\envs\\pytorch\\lib\\site-packages (from tqdm->sentence-transformers) (0.4.4)\n",
      "Collecting safetensors>=0.3.1\n",
      "  Downloading safetensors-0.3.3-cp37-cp37m-win_amd64.whl (266 kB)\n",
      "Collecting regex!=2019.12.17\n",
      "  Downloading regex-2023.8.8-cp37-cp37m-win_amd64.whl (268 kB)\n",
      "Collecting tokenizers!=0.11.3,<0.14,>=0.11.1\n",
      "  Downloading tokenizers-0.13.3-cp37-cp37m-win_amd64.whl (3.5 MB)\n",
      "Requirement already satisfied: zipp>=0.5 in e:\\anaconda2\\envs\\pytorch\\lib\\site-packages (from importlib-metadata->huggingface-hub>=0.4.0->sentence-transformers) (3.8.0)\n",
      "Collecting click\n",
      "  Downloading click-8.1.7-py3-none-any.whl (97 kB)\n",
      "Requirement already satisfied: joblib in e:\\anaconda2\\envs\\pytorch\\lib\\site-packages (from nltk->sentence-transformers) (1.1.0)\n",
      "Requirement already satisfied: urllib3<1.27,>=1.21.1 in e:\\anaconda2\\envs\\pytorch\\lib\\site-packages (from requests->huggingface-hub>=0.4.0->sentence-transformers) (1.26.9)\n",
      "Requirement already satisfied: charset-normalizer~=2.0.0 in e:\\anaconda2\\envs\\pytorch\\lib\\site-packages (from requests->huggingface-hub>=0.4.0->sentence-transformers) (2.0.4)\n",
      "Requirement already satisfied: certifi>=2017.4.17 in e:\\anaconda2\\envs\\pytorch\\lib\\site-packages (from requests->huggingface-hub>=0.4.0->sentence-transformers) (2022.5.18.1)\n",
      "Requirement already satisfied: idna<4,>=2.5 in e:\\anaconda2\\envs\\pytorch\\lib\\site-packages (from requests->huggingface-hub>=0.4.0->sentence-transformers) (3.3)\n",
      "Requirement already satisfied: threadpoolctl>=2.0.0 in e:\\anaconda2\\envs\\pytorch\\lib\\site-packages (from scikit-learn->sentence-transformers) (3.1.0)\n",
      "Requirement already satisfied: pillow!=8.3.*,>=5.3.0 in e:\\anaconda2\\envs\\pytorch\\lib\\site-packages (from torchvision->sentence-transformers) (9.0.1)\n",
      "Building wheels for collected packages: sentence-transformers\n",
      "  Building wheel for sentence-transformers (setup.py): started\n",
      "  Building wheel for sentence-transformers (setup.py): finished with status 'done'\n",
      "  Created wheel for sentence-transformers: filename=sentence_transformers-2.2.2-py3-none-any.whl size=125940 sha256=9706b42a7d6d22b671b09eecc87db849f180b95a52482e9dd0fc7dd8a074a0db\n",
      "  Stored in directory: c:\\users\\arun sivakumar\\appdata\\local\\pip\\cache\\wheels\\bf\\06\\fb\\d59c1e5bd1dac7f6cf61ec0036cc3a10ab8fecaa6b2c3d3ee9\n",
      "Successfully built sentence-transformers\n",
      "Installing collected packages: fsspec, tokenizers, safetensors, regex, huggingface-hub, click, transformers, sentencepiece, nltk, sentence-transformers\n",
      "Successfully installed click-8.1.7 fsspec-2023.1.0 huggingface-hub-0.16.4 nltk-3.8.1 regex-2023.8.8 safetensors-0.3.3 sentence-transformers-2.2.2 sentencepiece-0.1.99 tokenizers-0.13.3 transformers-4.30.2\n",
      "Note: you may need to restart the kernel to use updated packages.\n"
     ]
    }
   ],
   "source": [
    "pip install -U sentence-transformers"
   ]
  },
  {
   "cell_type": "markdown",
   "id": "570e04dc",
   "metadata": {},
   "source": [
    "### Importing  the Librairies"
   ]
  },
  {
   "cell_type": "code",
   "execution_count": 145,
   "id": "a588744e",
   "metadata": {},
   "outputs": [],
   "source": [
    "from sentence_transformers import SentenceTransformer, util\n",
    "from PIL import Image\n",
    "import pandas as pd\n",
    "import numpy as np"
   ]
  },
  {
   "cell_type": "markdown",
   "id": "153bc226",
   "metadata": {},
   "source": [
    "### Load NLP LLM model"
   ]
  },
  {
   "cell_type": "code",
   "execution_count": 8,
   "id": "53c5b3f6",
   "metadata": {},
   "outputs": [],
   "source": [
    "# Download NLP sentence transformer model\n",
    "model_llm = SentenceTransformer('paraphrase-MiniLM-L6-v2')"
   ]
  },
  {
   "cell_type": "markdown",
   "id": "37836627",
   "metadata": {},
   "source": [
    "### Load the data\n",
    "\n",
    "We will load our dataset of 2967 rows of side effects data from drugs.com. Data can be found here:https://www.kaggle.com/datasets/jithinanievarghese/drugs-related-to-common-treatments"
   ]
  },
  {
   "cell_type": "code",
   "execution_count": 208,
   "id": "0998223e",
   "metadata": {},
   "outputs": [],
   "source": [
    "#Load medical drug data\n",
    "data = pd.read_csv('C:/Users/Arun sivakumar/Desktop/drugs_side_effects_drugs_com.csv')"
   ]
  },
  {
   "cell_type": "code",
   "execution_count": 209,
   "id": "ba2db4de",
   "metadata": {},
   "outputs": [
    {
     "data": {
      "text/html": [
       "<div>\n",
       "<style scoped>\n",
       "    .dataframe tbody tr th:only-of-type {\n",
       "        vertical-align: middle;\n",
       "    }\n",
       "\n",
       "    .dataframe tbody tr th {\n",
       "        vertical-align: top;\n",
       "    }\n",
       "\n",
       "    .dataframe thead th {\n",
       "        text-align: right;\n",
       "    }\n",
       "</style>\n",
       "<table border=\"1\" class=\"dataframe\">\n",
       "  <thead>\n",
       "    <tr style=\"text-align: right;\">\n",
       "      <th></th>\n",
       "      <th>drug_name</th>\n",
       "      <th>medical_condition</th>\n",
       "      <th>side_effects</th>\n",
       "      <th>generic_name</th>\n",
       "      <th>drug_classes</th>\n",
       "      <th>brand_names</th>\n",
       "      <th>activity</th>\n",
       "      <th>rx_otc</th>\n",
       "      <th>pregnancy_category</th>\n",
       "      <th>csa</th>\n",
       "      <th>alcohol</th>\n",
       "      <th>related_drugs</th>\n",
       "      <th>medical_condition_description</th>\n",
       "      <th>rating</th>\n",
       "      <th>no_of_reviews</th>\n",
       "      <th>drug_link</th>\n",
       "      <th>medical_condition_url</th>\n",
       "    </tr>\n",
       "  </thead>\n",
       "  <tbody>\n",
       "    <tr>\n",
       "      <th>0</th>\n",
       "      <td>doxycycline</td>\n",
       "      <td>Acne</td>\n",
       "      <td>(hives, difficult breathing, swelling in your ...</td>\n",
       "      <td>doxycycline</td>\n",
       "      <td>Miscellaneous antimalarials, Tetracyclines</td>\n",
       "      <td>Acticlate, Adoxa CK, Adoxa Pak, Adoxa TT, Alod...</td>\n",
       "      <td>87%</td>\n",
       "      <td>Rx</td>\n",
       "      <td>D</td>\n",
       "      <td>N</td>\n",
       "      <td>X</td>\n",
       "      <td>amoxicillin: https://www.drugs.com/amoxicillin...</td>\n",
       "      <td>Acne Other names: Acne Vulgaris; Blackheads; B...</td>\n",
       "      <td>6.8</td>\n",
       "      <td>760.0</td>\n",
       "      <td>https://www.drugs.com/doxycycline.html</td>\n",
       "      <td>https://www.drugs.com/condition/acne.html</td>\n",
       "    </tr>\n",
       "    <tr>\n",
       "      <th>1</th>\n",
       "      <td>spironolactone</td>\n",
       "      <td>Acne</td>\n",
       "      <td>hives ; difficulty breathing; swelling of your...</td>\n",
       "      <td>spironolactone</td>\n",
       "      <td>Aldosterone receptor antagonists, Potassium-sp...</td>\n",
       "      <td>Aldactone, CaroSpir</td>\n",
       "      <td>82%</td>\n",
       "      <td>Rx</td>\n",
       "      <td>C</td>\n",
       "      <td>N</td>\n",
       "      <td>X</td>\n",
       "      <td>amlodipine: https://www.drugs.com/amlodipine.h...</td>\n",
       "      <td>Acne Other names: Acne Vulgaris; Blackheads; B...</td>\n",
       "      <td>7.2</td>\n",
       "      <td>449.0</td>\n",
       "      <td>https://www.drugs.com/spironolactone.html</td>\n",
       "      <td>https://www.drugs.com/condition/acne.html</td>\n",
       "    </tr>\n",
       "  </tbody>\n",
       "</table>\n",
       "</div>"
      ],
      "text/plain": [
       "        drug_name medical_condition  \\\n",
       "0     doxycycline              Acne   \n",
       "1  spironolactone              Acne   \n",
       "\n",
       "                                        side_effects    generic_name  \\\n",
       "0  (hives, difficult breathing, swelling in your ...     doxycycline   \n",
       "1  hives ; difficulty breathing; swelling of your...  spironolactone   \n",
       "\n",
       "                                        drug_classes  \\\n",
       "0         Miscellaneous antimalarials, Tetracyclines   \n",
       "1  Aldosterone receptor antagonists, Potassium-sp...   \n",
       "\n",
       "                                         brand_names activity rx_otc  \\\n",
       "0  Acticlate, Adoxa CK, Adoxa Pak, Adoxa TT, Alod...      87%     Rx   \n",
       "1                                Aldactone, CaroSpir      82%     Rx   \n",
       "\n",
       "  pregnancy_category csa alcohol  \\\n",
       "0                  D   N       X   \n",
       "1                  C   N       X   \n",
       "\n",
       "                                       related_drugs  \\\n",
       "0  amoxicillin: https://www.drugs.com/amoxicillin...   \n",
       "1  amlodipine: https://www.drugs.com/amlodipine.h...   \n",
       "\n",
       "                       medical_condition_description  rating  no_of_reviews  \\\n",
       "0  Acne Other names: Acne Vulgaris; Blackheads; B...     6.8          760.0   \n",
       "1  Acne Other names: Acne Vulgaris; Blackheads; B...     7.2          449.0   \n",
       "\n",
       "                                   drug_link  \\\n",
       "0     https://www.drugs.com/doxycycline.html   \n",
       "1  https://www.drugs.com/spironolactone.html   \n",
       "\n",
       "                       medical_condition_url  \n",
       "0  https://www.drugs.com/condition/acne.html  \n",
       "1  https://www.drugs.com/condition/acne.html  "
      ]
     },
     "execution_count": 209,
     "metadata": {},
     "output_type": "execute_result"
    }
   ],
   "source": [
    "data.head(2)"
   ]
  },
  {
   "cell_type": "code",
   "execution_count": 210,
   "id": "414fe1b3",
   "metadata": {},
   "outputs": [
    {
     "name": "stdout",
     "output_type": "stream",
     "text": [
      "Non-null row count: 6777\n"
     ]
    }
   ],
   "source": [
    "#Transform data to include words such as \"side effect\" to improve readability of our answers\n",
    "data['drug_side_effects'] = data['drug_name'] +\" has the side effect of \"+ data['side_effects']\n",
    "\n",
    "#Drop rows where the side effects are empty since we can't return an answer for those drugs due to missing data\n",
    "data = data[pd.notnull(data['side_effects'])]\n",
    "\n",
    "print(\"Non-null row count:\",data.isnull().sum().sum())\n",
    "data.reset_index(inplace=True,drop=True)"
   ]
  },
  {
   "cell_type": "markdown",
   "id": "4a2ca12e",
   "metadata": {},
   "source": [
    "### Encoding medical documents"
   ]
  },
  {
   "cell_type": "code",
   "execution_count": 211,
   "id": "fa55b43f",
   "metadata": {},
   "outputs": [],
   "source": [
    "#Encode side effects data using our intialized Sentence transformer model\n",
    "medical_corpus_embeddings = model.encode(data['drug_side_effects'].values.tolist())"
   ]
  },
  {
   "cell_type": "code",
   "execution_count": 212,
   "id": "2fd482a7",
   "metadata": {},
   "outputs": [],
   "source": [
    "#Encode end user queries\n",
    "user_query = ['what are the side effects of Aldactone', 'what are the side effects of benzphetamine']"
   ]
  },
  {
   "cell_type": "code",
   "execution_count": 213,
   "id": "4d88a7e8",
   "metadata": {},
   "outputs": [
    {
     "name": "stdout",
     "output_type": "stream",
     "text": [
      "Query: what are the side effects of Aldactone\n",
      "Aldactone has the side effect of hives ; difficulty breathing; swelling of your face, lips, tongue, or throat. Call your doctor at once if you have: a light-headed feeling, like you might pass out; little or no urination; high potassium level - nausea , weakness, tingly feeling, chest pain, irregular heartbeats, loss of movement; o signs of other electrolyte imbalances - increased thirst or urination, confusion, vomiting , muscle pain, slurred speech, severe weakness, numbness , loss of coordination, feeling unsteady. Common Aldactone side effects may include: breast swelling or tenderness. (Score: 0.7186)\n",
      "\n",
      "\n",
      "Query: what are the side effects of benzphetamine\n",
      "benzphetamine has the side effect of hives ; difficulty breathing; swelling of your face, lips, tongue, or throat. Benzphetamine may cause serious side effects. Stop using benzphetamine and call your doctor at once if you have: shortness of breath (even with mild exertion), swelling, rapid weight gain; chest pain, feeling like you might pass out; pounding heartbeats or fluttering in your chest; confusion or irritability, unusual thoughts or behavior; or dangerously high blood pressure (severe headache , blurred vision, buzzing in your ears, anxiety , confusion, chest pain, shortness of breath, uneven heartbeats, seizure). Common side effects of benzphetamine may include: feeling restless or hyperactive; headache, dizziness , tremors; sleep problems ( insomnia ); increased sweating; dry mouth or an unpleasant taste in your mouth; nausea, diarrhea upset stomach ; or skin rash . (Score: 0.6885)\n"
     ]
    }
   ],
   "source": [
    "#Save original corpus for later use\n",
    "original_corpus = data['drug_side_effects'].values.tolist()\n",
    "\n",
    "#Encode questions given by end user to be answered by our model\n",
    "queries_embeddings = model.encode(user_query)\n",
    "\n",
    "# Find the top match for each user query based on cosine similarity\n",
    "hits = util.semantic_search(queries_embeddings, medical_corpus_embeddings, top_k=1)\n",
    "\n",
    "# Print results of first user query\n",
    "print(f\"Query: {user_query[0]}\")\n",
    "for hit in hits[0]:\n",
    "    print(original_corpus[hit['corpus_id']], \"(Score: {:.4f})\".format(hit['score']))\n",
    "    print('\\n')\n",
    "\n",
    "# Print results of second user query\n",
    "print(f\"Query: {user_query[1]}\")\n",
    "for hit in hits[1]:\n",
    "    print(original_corpus[hit['corpus_id']], \"(Score: {:.4f})\".format(hit['score']))\n"
   ]
  },
  {
   "cell_type": "markdown",
   "id": "faab2e79",
   "metadata": {},
   "source": [
    "Here, cosine similarity is used as a \"score\" to get the most similar embedding, as the answer to the user query."
   ]
  },
  {
   "cell_type": "code",
   "execution_count": 214,
   "id": "dd36be74",
   "metadata": {},
   "outputs": [
    {
     "name": "stdout",
     "output_type": "stream",
     "text": [
      "Query: what are the side effects of benzphetamine\n",
      "benzphetamine has the side effect of hives ; difficulty breathing; swelling of your face, lips, tongue, or throat. Benzphetamine may cause serious side effects. Stop using benzphetamine and call your doctor at once if you have: shortness of breath (even with mild exertion), swelling, rapid weight gain; chest pain, feeling like you might pass out; pounding heartbeats or fluttering in your chest; confusion or irritability, unusual thoughts or behavior; or dangerously high blood pressure (severe headache , blurred vision, buzzing in your ears, anxiety , confusion, chest pain, shortness of breath, uneven heartbeats, seizure). Common side effects of benzphetamine may include: feeling restless or hyperactive; headache, dizziness , tremors; sleep problems ( insomnia ); increased sweating; dry mouth or an unpleasant taste in your mouth; nausea, diarrhea upset stomach ; or skin rash . (Score: 0.6885)\n",
      "Benzaclin has the side effect of hives; difficulty breathing; swelling of your face, lips, tongue, or throat. Stop using this medicine and call your doctor at once if you have any of these serious side effects: severe redness, burning, stinging, or peeling of treated skin areas; or diarrhea that is watery or bloody. Less serious Benzaclin side effects may include: mild burning or stinging; itching or tingly feeling; dryness or peeling of treated skin; or redness or other irritation. (Score: 0.6620)\n"
     ]
    }
   ],
   "source": [
    "#Let's get the top two searches to show the next most similar sentence in the medical documents\n",
    "hits = util.semantic_search(queries_embeddings, medical_corpus_embeddings, top_k=2)\n",
    "\n",
    "# Print results of first query\n",
    "print(f\"Query: {user_query[1]}\")\n",
    "for hit in hits[1]:\n",
    "    print(original_corpus[hit['corpus_id']], \"(Score: {:.4f})\".format(hit['score']))"
   ]
  },
  {
   "cell_type": "markdown",
   "id": "f5c6ef0d",
   "metadata": {},
   "source": [
    "Here, Cosine similarity measure returns \"the side effects of Benzaclin\" as the next most similar answer for \"benzphetamine\" due to the similar name. Thus if a drug does not exist, the next most similar match is returned by our model.\n",
    "\n",
    "Thus it is important to make sure all user queries are covered."
   ]
  },
  {
   "cell_type": "markdown",
   "id": "b3f2de23",
   "metadata": {},
   "source": [
    "### Added feature: disease treated"
   ]
  },
  {
   "cell_type": "markdown",
   "id": "bb6876a4",
   "metadata": {},
   "source": [
    "Let's include another use case, answering what disease the particular drug treats.\n",
    "In order to include the disease treated by a particular drug, we need to encode the columns which has the relevant medical condition."
   ]
  },
  {
   "cell_type": "code",
   "execution_count": 215,
   "id": "0786434d",
   "metadata": {},
   "outputs": [
    {
     "data": {
      "text/plain": [
       "0"
      ]
     },
     "execution_count": 215,
     "metadata": {},
     "output_type": "execute_result"
    }
   ],
   "source": [
    "#Lets check for null values in the data, as we need to drop those rows\n",
    "data['medical_condition'].isna().sum()"
   ]
  },
  {
   "cell_type": "code",
   "execution_count": 217,
   "id": "94a7ea13",
   "metadata": {},
   "outputs": [],
   "source": [
    "#Encode medical condition\n",
    "data['medical_condition_present'] = data['drug_name'] +\" is used to treat \"+ data['medical_condition']"
   ]
  },
  {
   "cell_type": "code",
   "execution_count": 223,
   "id": "8916c860",
   "metadata": {},
   "outputs": [],
   "source": [
    "#Lets combine drug side effects and treated medical conditions in a single column for our encoding convenience\n",
    "data_converted = pd.melt(data, id_vars='drug_name', value_vars=['drug_side_effects', 'medical_condition_present'])"
   ]
  },
  {
   "cell_type": "code",
   "execution_count": 224,
   "id": "c861e8d9",
   "metadata": {},
   "outputs": [
    {
     "data": {
      "text/html": [
       "<div>\n",
       "<style scoped>\n",
       "    .dataframe tbody tr th:only-of-type {\n",
       "        vertical-align: middle;\n",
       "    }\n",
       "\n",
       "    .dataframe tbody tr th {\n",
       "        vertical-align: top;\n",
       "    }\n",
       "\n",
       "    .dataframe thead th {\n",
       "        text-align: right;\n",
       "    }\n",
       "</style>\n",
       "<table border=\"1\" class=\"dataframe\">\n",
       "  <thead>\n",
       "    <tr style=\"text-align: right;\">\n",
       "      <th></th>\n",
       "      <th>drug_name</th>\n",
       "      <th>variable</th>\n",
       "      <th>value</th>\n",
       "    </tr>\n",
       "  </thead>\n",
       "  <tbody>\n",
       "    <tr>\n",
       "      <th>0</th>\n",
       "      <td>doxycycline</td>\n",
       "      <td>drug_side_effects</td>\n",
       "      <td>doxycycline has the side effect of (hives, dif...</td>\n",
       "    </tr>\n",
       "    <tr>\n",
       "      <th>1</th>\n",
       "      <td>spironolactone</td>\n",
       "      <td>drug_side_effects</td>\n",
       "      <td>spironolactone has the side effect of hives ; ...</td>\n",
       "    </tr>\n",
       "    <tr>\n",
       "      <th>2</th>\n",
       "      <td>minocycline</td>\n",
       "      <td>drug_side_effects</td>\n",
       "      <td>minocycline has the side effect of skin rash, ...</td>\n",
       "    </tr>\n",
       "    <tr>\n",
       "      <th>3</th>\n",
       "      <td>Accutane</td>\n",
       "      <td>drug_side_effects</td>\n",
       "      <td>Accutane has the side effect of problems with ...</td>\n",
       "    </tr>\n",
       "    <tr>\n",
       "      <th>4</th>\n",
       "      <td>clindamycin</td>\n",
       "      <td>drug_side_effects</td>\n",
       "      <td>clindamycin has the side effect of hives ; dif...</td>\n",
       "    </tr>\n",
       "    <tr>\n",
       "      <th>...</th>\n",
       "      <td>...</td>\n",
       "      <td>...</td>\n",
       "      <td>...</td>\n",
       "    </tr>\n",
       "    <tr>\n",
       "      <th>5609</th>\n",
       "      <td>Atti-Plex P</td>\n",
       "      <td>medical_condition_present</td>\n",
       "      <td>Atti-Plex P is used to treat Weight Loss</td>\n",
       "    </tr>\n",
       "    <tr>\n",
       "      <th>5610</th>\n",
       "      <td>benzphetamine</td>\n",
       "      <td>medical_condition_present</td>\n",
       "      <td>benzphetamine is used to treat Weight Loss</td>\n",
       "    </tr>\n",
       "    <tr>\n",
       "      <th>5611</th>\n",
       "      <td>fenfluramine</td>\n",
       "      <td>medical_condition_present</td>\n",
       "      <td>fenfluramine is used to treat Weight Loss</td>\n",
       "    </tr>\n",
       "    <tr>\n",
       "      <th>5612</th>\n",
       "      <td>Imcivree</td>\n",
       "      <td>medical_condition_present</td>\n",
       "      <td>Imcivree is used to treat Weight Loss</td>\n",
       "    </tr>\n",
       "    <tr>\n",
       "      <th>5613</th>\n",
       "      <td>setmelanotide</td>\n",
       "      <td>medical_condition_present</td>\n",
       "      <td>setmelanotide is used to treat Weight Loss</td>\n",
       "    </tr>\n",
       "  </tbody>\n",
       "</table>\n",
       "<p>5614 rows × 3 columns</p>\n",
       "</div>"
      ],
      "text/plain": [
       "           drug_name                   variable  \\\n",
       "0        doxycycline          drug_side_effects   \n",
       "1     spironolactone          drug_side_effects   \n",
       "2        minocycline          drug_side_effects   \n",
       "3           Accutane          drug_side_effects   \n",
       "4        clindamycin          drug_side_effects   \n",
       "...              ...                        ...   \n",
       "5609     Atti-Plex P  medical_condition_present   \n",
       "5610   benzphetamine  medical_condition_present   \n",
       "5611    fenfluramine  medical_condition_present   \n",
       "5612        Imcivree  medical_condition_present   \n",
       "5613   setmelanotide  medical_condition_present   \n",
       "\n",
       "                                                  value  \n",
       "0     doxycycline has the side effect of (hives, dif...  \n",
       "1     spironolactone has the side effect of hives ; ...  \n",
       "2     minocycline has the side effect of skin rash, ...  \n",
       "3     Accutane has the side effect of problems with ...  \n",
       "4     clindamycin has the side effect of hives ; dif...  \n",
       "...                                                 ...  \n",
       "5609           Atti-Plex P is used to treat Weight Loss  \n",
       "5610         benzphetamine is used to treat Weight Loss  \n",
       "5611          fenfluramine is used to treat Weight Loss  \n",
       "5612              Imcivree is used to treat Weight Loss  \n",
       "5613         setmelanotide is used to treat Weight Loss  \n",
       "\n",
       "[5614 rows x 3 columns]"
      ]
     },
     "execution_count": 224,
     "metadata": {},
     "output_type": "execute_result"
    }
   ],
   "source": [
    "data_converted"
   ]
  },
  {
   "cell_type": "code",
   "execution_count": 226,
   "id": "5c037e2f",
   "metadata": {},
   "outputs": [],
   "source": [
    "#Encode conditions + disease treated\n",
    "medical_condition_embeddings = model.encode(data_converted['value'].values.tolist())"
   ]
  },
  {
   "cell_type": "code",
   "execution_count": 227,
   "id": "fb79d26d",
   "metadata": {},
   "outputs": [],
   "source": [
    "#Create new corpus with both side effects and disease treated\n",
    "added_corpus = data_converted['value'].values.tolist()"
   ]
  },
  {
   "cell_type": "code",
   "execution_count": 231,
   "id": "c27b6592",
   "metadata": {},
   "outputs": [
    {
     "name": "stdout",
     "output_type": "stream",
     "text": [
      "Query: what are the side effects of Arthricream\n",
      "Arthricream has the side effect of WARNING/CAUTION: Even though it may be rare, some people may have very bad and sometimes deadly side effects when taking a drug. Tell your doctor or get medical help right away if you have any of the following signs or symptoms that may be related to a very bad side effect: Signs of an allergic reaction, like rash; hives ; itching; red, swollen, blistered, or peeling skin with or without fever; wheezing; tightness in the chest or throat; trouble breathing, swallowing, or talking; unusual hoarseness; or swelling of the mouth, face, lips, tongue, or throat. Irritation where Arthricream (trolamine cream and lotion) is used. Redness. Arthricream side effects (Score: 0.7741)\n",
      "\n",
      "\n",
      "Query: what disease is treated by setmelanotide\n",
      "setmelanotide is used to treat Weight Loss (Score: 0.7788)\n"
     ]
    }
   ],
   "source": [
    "#Encode end user queries\n",
    "user_query = ['what are the side effects of Arthricream', 'what disease is treated by setmelanotide']\n",
    "\n",
    "\n",
    "queries_embeddings = model.encode(user_query)\n",
    "\n",
    "# Find the top-1 corpus documents matching each query\n",
    "hits = util.semantic_search(queries_embeddings, medical_condition_embeddings, top_k=1)\n",
    "\n",
    "# Print results of first user query\n",
    "print(f\"Query: {user_query[0]}\")\n",
    "for hit in hits[0]:\n",
    "    print(added_corpus[hit['corpus_id']], \"(Score: {:.4f})\".format(hit['score']))\n",
    "    print('\\n')\n",
    "\n",
    "# Print results of second user query which asks about the disease treated by a particular drug\n",
    "print(f\"Query: {user_query[1]}\")\n",
    "for hit in hits[1]:\n",
    "    print(added_corpus[hit['corpus_id']], \"(Score: {:.4f})\".format(hit['score']))"
   ]
  },
  {
   "cell_type": "markdown",
   "id": "99de71e9",
   "metadata": {},
   "source": [
    "In this way, we can add answers for most frequently asked questions by the users. Thus we can promote diversity of the answers provided by out Q&A model as it skims through large medical documents to answer user queries within seconds."
   ]
  },
  {
   "cell_type": "markdown",
   "id": "de15b2df",
   "metadata": {},
   "source": [
    "### Conclusion"
   ]
  },
  {
   "cell_type": "markdown",
   "id": "7873f8bf",
   "metadata": {},
   "source": [
    "The model can be improved with more customized answers to user queries based on popular questions. The accurate answers produced for different queries show that the Medical question answering model can be extended to more detailed questions and newer drugs. Additionally, multimodal models such as CLIP can extend this work to produce image examples of diseases (osteoarthits, Psoriasis) to user queries and extend this work further."
   ]
  }
 ],
 "metadata": {
  "kernelspec": {
   "display_name": "Python 3 (ipykernel)",
   "language": "python",
   "name": "python3"
  },
  "language_info": {
   "codemirror_mode": {
    "name": "ipython",
    "version": 3
   },
   "file_extension": ".py",
   "mimetype": "text/x-python",
   "name": "python",
   "nbconvert_exporter": "python",
   "pygments_lexer": "ipython3",
   "version": "3.7.13"
  }
 },
 "nbformat": 4,
 "nbformat_minor": 5
}
